{
 "cells": [
  {
   "cell_type": "code",
   "execution_count": 2,
   "id": "eae14a4e-a4fd-445b-bfa8-11a89e073f58",
   "metadata": {},
   "outputs": [
    {
     "name": "stdout",
     "output_type": "stream",
     "text": [
      "As amount is greater than balance\n",
      "As amount cannot be negative\n"
     ]
    }
   ],
   "source": [
    "class InsufficientFundsError(Exception):\n",
    "    pass\n",
    "class BankAccount:\n",
    "    def __init__(self,balance):\n",
    "        self.balance=balance\n",
    "    def withdraw(self,amount):\n",
    "        try:\n",
    "            if amount<0:\n",
    "                raise ValueError(\"As amount cannot be negative\")\n",
    "            if amount>self.balance:\n",
    "                raise InsufficientFundsError(\"As amount is greater than balance\")\n",
    "            self.balance-=amount\n",
    "            print(f\"Withdraw Successful. Remaining Amount:{self.balance}\")\n",
    "        except ValueError as e:\n",
    "            return e\n",
    "        except InsufficientFundsError as If:\n",
    "            return If\n",
    "        except Exception as ex:\n",
    "            return ex\n",
    "\n",
    "account=BankAccount(100)\n",
    "print(account.withdraw(150))\n",
    "print(account.withdraw(-10))"
   ]
  },
  {
   "cell_type": "code",
   "execution_count": null,
   "id": "2e74053a-c173-4d65-a82d-f209428ea831",
   "metadata": {},
   "outputs": [],
   "source": [
    " "
   ]
  }
 ],
 "metadata": {
  "kernelspec": {
   "display_name": "Python 3 (ipykernel)",
   "language": "python",
   "name": "python3"
  },
  "language_info": {
   "codemirror_mode": {
    "name": "ipython",
    "version": 3
   },
   "file_extension": ".py",
   "mimetype": "text/x-python",
   "name": "python",
   "nbconvert_exporter": "python",
   "pygments_lexer": "ipython3",
   "version": "3.13.0"
  }
 },
 "nbformat": 4,
 "nbformat_minor": 5
}
