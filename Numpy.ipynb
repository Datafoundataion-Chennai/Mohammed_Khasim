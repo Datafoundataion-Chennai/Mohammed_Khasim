{
 "cells": [
  {
   "cell_type": "code",
   "execution_count": 1,
   "id": "721a6914",
   "metadata": {},
   "outputs": [
    {
     "name": "stdout",
     "output_type": "stream",
     "text": [
      "[1 2 3 4 5]\n"
     ]
    }
   ],
   "source": [
    "import numpy as np\n",
    "arr=np.array([1,2,3,4,5])\n",
    "print(arr)"
   ]
  },
  {
   "cell_type": "code",
   "execution_count": 4,
   "id": "d812b616",
   "metadata": {},
   "outputs": [
    {
     "name": "stdout",
     "output_type": "stream",
     "text": [
      "Average stock prices: [309.1        279.53333333 320.33333333 309.03333333 305.93333333]\n",
      "Highest price recorded: 497 at Day 28, Company 2\n",
      "Normalized Prices:\n",
      " [[0.25505051 0.87626263 0.67929293 0.26515152 0.17676768]\n",
      " [0.47222222 0.0479798  0.25505051 0.3030303  0.53787879]\n",
      " [0.83080808 0.21717172 0.93686869 0.24747475 0.9040404 ]\n",
      " [0.37878788 0.32575758 0.37373737 0.77525253 0.64646465]\n",
      " [0.86363636 0.73737374 0.96969697 0.47979798 0.69444444]\n",
      " [0.40151515 0.78787879 0.05050505 0.63383838 0.59090909]\n",
      " [0.86616162 0.11868687 0.14393939 0.42424242 0.46969697]\n",
      " [0.67929293 0.47474747 0.43686869 0.12373737 0.91414141]\n",
      " [0.13383838 0.61111111 0.8030303  0.32575758 0.77020202]\n",
      " [0.33585859 0.0479798  0.82575758 0.41666667 0.68686869]\n",
      " [0.97474747 0.21969697 0.79292929 0.03030303 0.60606061]\n",
      " [0.66414141 0.86868687 0.12878788 0.96969697 0.85353535]\n",
      " [0.22727273 0.92171717 0.66161616 0.08333333 0.51515152]\n",
      " [0.19949495 0.12121212 0.9040404  0.97474747 0.        ]\n",
      " [0.97979798 0.13131313 0.26262626 0.65151515 0.77777778]\n",
      " [0.47727273 0.54545455 0.10606061 0.4040404  0.50505051]\n",
      " [0.67676768 0.88131313 0.76262626 0.67929293 0.53787879]\n",
      " [0.63131313 0.47474747 0.74242424 0.53282828 0.52020202]\n",
      " [0.59343434 0.84848485 0.92171717 0.12878788 0.7020202 ]\n",
      " [0.54292929 0.63131313 0.46969697 0.95454545 0.09848485]\n",
      " [0.39141414 0.03282828 0.75505051 0.15909091 0.86616162]\n",
      " [0.82070707 0.01767677 0.86363636 0.32070707 0.33838384]\n",
      " [0.1540404  0.3459596  0.19949495 0.98484848 0.40656566]\n",
      " [0.72474747 0.9520202  0.6540404  0.57828283 0.09848485]\n",
      " [0.06565657 0.33585859 0.50252525 0.82323232 0.67171717]\n",
      " [0.07828283 0.11616162 0.15151515 0.54040404 0.73484848]\n",
      " [0.24494949 0.42929293 0.9040404  0.53535354 0.08333333]\n",
      " [0.56818182 0.25       0.32575758 0.64393939 0.00757576]\n",
      " [0.54545455 0.63888889 1.         0.90151515 0.70959596]\n",
      " [0.98737374 0.51767677 0.03282828 0.86868687 0.1010101 ]]\n",
      "Risky Investment Days:\n",
      "Day 1: [171]\n",
      "Day 2: [120]\n",
      "Day 3: [187 199]\n",
      "Day 6: [121]\n",
      "Day 7: [148 158]\n",
      "Day 8: [150]\n",
      "Day 9: [154]\n",
      "Day 10: [120]\n",
      "Day 11: [188 113]\n",
      "Day 12: [152]\n",
      "Day 13: [191 134]\n",
      "Day 14: [180 149 101]\n",
      "Day 15: [153]\n",
      "Day 16: [143]\n",
      "Day 19: [152]\n",
      "Day 20: [140]\n",
      "Day 21: [114 164]\n",
      "Day 22: [108]\n",
      "Day 23: [162 180]\n",
      "Day 24: [140]\n",
      "Day 25: [127]\n",
      "Day 26: [132 147 161]\n",
      "Day 27: [198 134]\n",
      "Day 28: [104]\n",
      "Day 30: [114 141]\n"
     ]
    }
   ],
   "source": [
    "# Challenge 1: Financial Analyst’s Dilemma\n",
    "import numpy as np\n",
    "\n",
    "np.random.seed(42)  # For reproducibility\n",
    "stock_prices = np.random.randint(100, 500, (30, 5))\n",
    "\n",
    "avg_prices = np.mean(stock_prices, axis=0)\n",
    "\n",
    "max_price = np.max(stock_prices)\n",
    "max_day, max_company = np.unravel_index(np.argmax(stock_prices), stock_prices.shape)\n",
    "\n",
    "normalized_prices = (stock_prices - stock_prices.min()) / (stock_prices.max() - stock_prices.min())\n",
    "\n",
    "risky_days = np.where(stock_prices < 200)\n",
    "\n",
    "print(\"Average stock prices:\", avg_prices)\n",
    "print(f\"Highest price recorded: {max_price} at Day {max_day}, Company {max_company}\")\n",
    "print(\"Normalized Prices:\\n\", normalized_prices)\n",
    "print(\"Risky Investment Days:\")\n",
    "for day in np.unique(risky_days[0]):\n",
    "    print(f\"Day {day+1}: {stock_prices[day][stock_prices[day] < 200]}\")"
   ]
  },
  {
   "cell_type": "code",
   "execution_count": 8,
   "id": "13fee099",
   "metadata": {},
   "outputs": [
    {
     "name": "stdout",
     "output_type": "stream",
     "text": [
      "Total resources needed (tons): Oxygen: 196, Water: 182, Food: 170\n",
      "Highest consumption in a month: Water (47 tons in month 4)\n",
      "Standard deviation of consumption: Oxygen: 12.3, Water: 11.1, Food: 12.9\n",
      "Transposed Matrix:\n",
      "[[38 17 16 46 33 46]\n",
      " [26 31 42 47 16 20]\n",
      " [16 16 37 15 40 46]]\n"
     ]
    }
   ],
   "source": [
    "import numpy as np\n",
    "\n",
    "resources=np.random.randint(15,50,(6,3))\n",
    "total_resources=np.sum(resources,axis=0)\n",
    "max_resource=np.max(resources)\n",
    "max_month,max_type=np.unravel_index(np.argmax(resources),resources.shape)\n",
    "resource_names=[\"Oxygen\",\"Water\",\"Food\"]\n",
    "\n",
    "std_dev=np.std(resources,axis=0)\n",
    "transposed_resources=resources.T\n",
    "\n",
    "print(f\"Total resources needed (tons): Oxygen: {total_resources[0]}, Water: {total_resources[1]}, Food: {total_resources[2]}\")\n",
    "print(f\"Highest consumption in a month: {resource_names[max_type]} ({max_resource} tons in month {max_month+1})\")\n",
    "print(f\"Standard deviation of consumption: Oxygen: {std_dev[0]:.1f}, Water: {std_dev[1]:.1f}, Food: {std_dev[2]:.1f}\")\n",
    "print(\"Transposed Matrix:\")\n",
    "print(transposed_resources)"
   ]
  },
  {
   "cell_type": "code",
   "execution_count": 9,
   "id": "2d496fc6-cbb3-4d18-8eda-be38189e4141",
   "metadata": {},
   "outputs": [
    {
     "name": "stdout",
     "output_type": "stream",
     "text": [
      "Average points per game: [25.4 22.1 26.9 21.  27.7]\n",
      "Best-performing player: Player 5 (Total: 277 points)\n",
      "Worst-performing player: Player 4 (Total: 210 points)\n",
      "Games with scores above 30:\n",
      "Player 1: Games [np.int64(1), np.int64(3), np.int64(5), np.int64(6), np.int64(9)]\n",
      "Player 2: Games [np.int64(4), np.int64(10)]\n",
      "Player 3: Games [np.int64(1), np.int64(4), np.int64(7), np.int64(8)]\n",
      "Player 4: Games [np.int64(1)]\n",
      "Player 5: Games [np.int64(5), np.int64(6), np.int64(7), np.int64(9), np.int64(10)]\n",
      "Sorted Players by Total Points:\n",
      "1. Player 5 - 277 points\n",
      "2. Player 3 - 269 points\n",
      "3. Player 1 - 254 points\n",
      "4. Player 2 - 221 points\n",
      "5. Player 4 - 210 points\n"
     ]
    }
   ],
   "source": [
    "# Challenge 3: Basketball Performance Analyzer\n",
    "points = np.random.randint(10, 40, (5, 10))\n",
    "\n",
    "avg_points = np.mean(points, axis=1)\n",
    "\n",
    "total_points = np.sum(points, axis=1)\n",
    "best_player = np.argmax(total_points)\n",
    "worst_player = np.argmin(total_points)\n",
    "\n",
    "exceptional_games = {i: np.where(points[i] > 30)[0] + 1 for i in range(5)}\n",
    "\n",
    "total_sorted_indices = np.argsort(total_points)[::-1]\n",
    "\n",
    "print(\"Average points per game:\", avg_points)\n",
    "print(f\"Best-performing player: Player {best_player+1} (Total: {total_points[best_player]} points)\")\n",
    "print(f\"Worst-performing player: Player {worst_player+1} (Total: {total_points[worst_player]} points)\")\n",
    "print(\"Games with scores above 30:\")\n",
    "for player, games in exceptional_games.items():\n",
    "    if len(games) > 0:\n",
    "        print(f\"Player {player+1}: Games {list(games)}\")\n",
    "print(\"Sorted Players by Total Points:\")\n",
    "for rank, idx in enumerate(total_sorted_indices, 1):\n",
    "    print(f\"{rank}. Player {idx+1} - {total_points[idx]} points\")"
   ]
  },
  {
   "cell_type": "code",
   "execution_count": null,
   "id": "e775e5f4-c166-444d-8369-8e15756b602b",
   "metadata": {},
   "outputs": [],
   "source": []
  }
 ],
 "metadata": {
  "kernelspec": {
   "display_name": "Python 3 (ipykernel)",
   "language": "python",
   "name": "python3"
  },
  "language_info": {
   "codemirror_mode": {
    "name": "ipython",
    "version": 3
   },
   "file_extension": ".py",
   "mimetype": "text/x-python",
   "name": "python",
   "nbconvert_exporter": "python",
   "pygments_lexer": "ipython3",
   "version": "3.13.0"
  }
 },
 "nbformat": 4,
 "nbformat_minor": 5
}
