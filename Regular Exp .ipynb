{
 "cells": [
  {
   "cell_type": "code",
   "execution_count": 1,
   "id": "f713ae78-3da5-4f85-959d-4be00261b00f",
   "metadata": {},
   "outputs": [
    {
     "name": "stdout",
     "output_type": "stream",
     "text": [
      "['support@example.com', 'john.doe123@company.org', 'jane_doe@domain.co.uk']\n"
     ]
    }
   ],
   "source": [
    "#Valid Email Address\n",
    "\n",
    "import re\n",
    "\n",
    "text=\"Contact us at support@example.com, john.doe123@company.org, or invalid-email@com. Also, try jane_doe@domain.co.uk.\"\n",
    "pattern=r'\\b[A-Za-z0-9][A-Za-z0-9._-]*@[A-Za-z0-9.-]+\\.[A-Za-z]{2,}\\b'\n",
    "match=re.findall(pattern,text)\n",
    "print(match)    "
   ]
  },
  {
   "cell_type": "code",
   "execution_count": 3,
   "id": "1f1cc667-cf1c-4ae1-bbf4-fc9363fda885",
   "metadata": {},
   "outputs": [
    {
     "name": "stdout",
     "output_type": "stream",
     "text": [
      "['#Python', '#coding', '#100DaysOfCode', '#Regex_Challenge']\n"
     ]
    }
   ],
   "source": [
    "#Extract Hashtags\n",
    "\n",
    "import re\n",
    "\n",
    "tweet=\"Learning #Python is fun! #coding #100DaysOfCode #Regex_Challenge\"\n",
    "pattern=r'#\\w+'\n",
    "match=re.findall(pattern,tweet)\n",
    "print(match)"
   ]
  },
  {
   "cell_type": "code",
   "execution_count": 5,
   "id": "e4f2288c-3756-41e2-b7d7-c8bd861db1f3",
   "metadata": {},
   "outputs": [
    {
     "name": "stdout",
     "output_type": "stream",
     "text": [
      "WeakPass -> Invalid\n",
      "Str0ng@Pass -> Valid\n",
      "NoSpecial1 -> Invalid\n",
      "short!1 -> Invalid\n",
      "Secure#123 -> Invalid\n"
     ]
    }
   ],
   "source": [
    "#Validate a strong password\n",
    "\n",
    "import re\n",
    "passwords=[\"WeakPass\", \"Str0ng@Pass\", \"NoSpecial1\", \"short!1\", \"Secure#123\"]\n",
    "pattern=r'^(?=.*[A-Z])(?=.*[a-z])(?=.*\\d)(?=.*[@$!%*?&])[A-Za-z\\d@$!%*?&]{8,}$'\n",
    "for password in passwords:\n",
    "    if re.match(pattern, password):\n",
    "        print(f\"{password} -> Valid\")\n",
    "    else:\n",
    "        print(f\"{password} -> Invalid\")"
   ]
  },
  {
   "cell_type": "code",
   "execution_count": null,
   "id": "55d42673-1ea2-400e-bdee-fc07bfbf2621",
   "metadata": {},
   "outputs": [],
   "source": []
  }
 ],
 "metadata": {
  "kernelspec": {
   "display_name": "Python 3 (ipykernel)",
   "language": "python",
   "name": "python3"
  },
  "language_info": {
   "codemirror_mode": {
    "name": "ipython",
    "version": 3
   },
   "file_extension": ".py",
   "mimetype": "text/x-python",
   "name": "python",
   "nbconvert_exporter": "python",
   "pygments_lexer": "ipython3",
   "version": "3.13.0"
  }
 },
 "nbformat": 4,
 "nbformat_minor": 5
}
