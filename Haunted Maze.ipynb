{
 "cells": [
  {
   "cell_type": "code",
   "execution_count": null,
   "id": "69f70e26-05a6-4391-8146-de3dcf36857b",
   "metadata": {},
   "outputs": [
    {
     "name": "stdout",
     "output_type": "stream",
     "text": [
      "🎃 Welcome to the Haunted Maze! Escape before the ghosts catch you! 👻\n",
      "# # # # # # # #\n",
      "# P . . # . E #\n",
      "# # # . # . # #\n",
      "# . G . . . . #\n",
      "# # # # # # # #\n",
      "\n",
      "\n"
     ]
    },
    {
     "name": "stdin",
     "output_type": "stream",
     "text": [
      "Move (W/A/S/D):  D\n"
     ]
    },
    {
     "name": "stdout",
     "output_type": "stream",
     "text": [
      "# # # # # # # #\n",
      "# . P . # . E #\n",
      "# # # . # . # #\n",
      "# . G . . . . #\n",
      "# # # # # # # #\n",
      "\n",
      "\n"
     ]
    },
    {
     "name": "stdin",
     "output_type": "stream",
     "text": [
      "Move (W/A/S/D):  S\n"
     ]
    },
    {
     "name": "stdout",
     "output_type": "stream",
     "text": [
      "# # # # # # # #\n",
      "# . P . # . E #\n",
      "# # # . # . # #\n",
      "# . G . . . . #\n",
      "# # # # # # # #\n",
      "\n",
      "\n"
     ]
    },
    {
     "name": "stdin",
     "output_type": "stream",
     "text": [
      "Move (W/A/S/D):  D\n"
     ]
    },
    {
     "name": "stdout",
     "output_type": "stream",
     "text": [
      "# # # # # # # #\n",
      "# . . P # . E #\n",
      "# # # . # . # #\n",
      "# . G . . . . #\n",
      "# # # # # # # #\n",
      "\n",
      "\n"
     ]
    },
    {
     "name": "stdin",
     "output_type": "stream",
     "text": [
      "Move (W/A/S/D):  S\n"
     ]
    },
    {
     "name": "stdout",
     "output_type": "stream",
     "text": [
      "# # # # # # # #\n",
      "# . . . # . E #\n",
      "# # # P # . # #\n",
      "# . G . . . . #\n",
      "# # # # # # # #\n",
      "\n",
      "\n"
     ]
    },
    {
     "name": "stdin",
     "output_type": "stream",
     "text": [
      "Move (W/A/S/D):  S\n"
     ]
    },
    {
     "name": "stdout",
     "output_type": "stream",
     "text": [
      "💀 You got caught! 💀\n",
      "# # # # # # # #\n",
      "# . . . # . E #\n",
      "# # # . # . # #\n",
      "# . G P . . . #\n",
      "# # # # # # # #\n",
      "\n",
      "\n"
     ]
    }
   ],
   "source": [
    "import random\n",
    "import time\n",
    "\n",
    "# Define the maze grid\n",
    "maze = [\n",
    "    [\"#\", \"#\", \"#\", \"#\", \"#\", \"#\", \"#\", \"#\"],\n",
    "    [\"#\", \"P\", \".\", \".\", \"#\", \".\", \"E\", \"#\"],\n",
    "    [\"#\", \"#\", \"#\", \".\", \"#\", \".\", \"#\", \"#\"],\n",
    "    [\"#\", \".\", \"G\", \".\", \".\", \".\", \".\", \"#\"],\n",
    "    [\"#\", \"#\", \"#\", \"#\", \"#\", \"#\", \"#\", \"#\"]\n",
    "]\n",
    "\n",
    "# Function to display the maze\n",
    "def print_maze():\n",
    "    for row in maze:\n",
    "        print(\" \".join(row))\n",
    "    print(\"\\n\")\n",
    "\n",
    "# Function to find the position of an element (P, G, E)\n",
    "def find_position(symbol):\n",
    "    for i in range(len(maze)):\n",
    "        for j in range(len(maze[i])):\n",
    "            if maze[i][j] == symbol:\n",
    "                return (i, j)\n",
    "    return None\n",
    "\n",
    "# Function to move the player\n",
    "def move_player(direction):\n",
    "    global maze\n",
    "    px, py = find_position(\"P\")\n",
    "    \n",
    "    # Calculate new position based on input\n",
    "    new_x, new_y = px, py\n",
    "    if direction == \"W\": new_x -= 1  # Up\n",
    "    elif direction == \"S\": new_x += 1  # Down\n",
    "    elif direction == \"A\": new_y -= 1  # Left\n",
    "    elif direction == \"D\": new_y += 1  # Right\n",
    "\n",
    "    if maze[new_x][new_y]==\"#\":\n",
    "        return #Blocked by wall\n",
    "    if maze[new_x][new_y]==\"E\":\n",
    "        print(\"You escaped! 🎉\")\n",
    "        exit()\n",
    "\n",
    "    maze[px][py]=\".\"  #Old position\n",
    "    maze[new_x][new_y]=\"P\"   #New Position\n",
    "    \n",
    "    # TODO: Handle wall collisions\n",
    "    # TODO: Handle reaching the exit\n",
    "    # TODO: Handle valid movement updates\n",
    "\n",
    "# Function to move the ghosts towards the player\n",
    "def move_ghosts():\n",
    "    global maze\n",
    "    px, py = find_position(\"P\")\n",
    "    gx, gy = find_position(\"G\")\n",
    "    if gx is None and gy is None:\n",
    "        return\n",
    "    move_x,move_y=gx,gy\n",
    "    if gx<px: move_x+=1\n",
    "    elif gx>px: move_x-=1\n",
    "    elif gy<py: move_y+=1\n",
    "    elif gy>py: move_y-=1\n",
    "\n",
    "    if maze[move_x][move_y]==\"P\":\n",
    "        print(\"💀 You got caught! 💀\" )\n",
    "        exit()\n",
    "    if maze[move_x][move_y]==\".\":\n",
    "        maze[gx][gy]==\".\"\n",
    "        maze[move_x][move_y]==\"G\"\n",
    "        \n",
    "    # TODO: Implement logic to move ghost closer to player\n",
    "\n",
    "# Game loop\n",
    "def game_loop():\n",
    "    print(\"🎃 Welcome to the Haunted Maze! Escape before the ghosts catch you! 👻\")\n",
    "    print_maze()\n",
    "    \n",
    "    while True:\n",
    "        direction = input(\"Move (W/A/S/D): \").upper()\n",
    "        if direction not in [\"W\", \"A\", \"S\", \"D\"]:\n",
    "            print(\"Invalid move! Use W (up), A (left), S (down), D (right)\")\n",
    "            continue\n",
    "        \n",
    "        move_player(direction)  # Move player\n",
    "        move_ghosts()  # Move ghosts\n",
    "        print_maze()\n",
    "\n",
    "        if find_position(\"P\")==\"E\":\n",
    "            print(\"win\")\n",
    "        if find_position(\"G\")==\"P\":\n",
    "            print(\"lose\")\n",
    "        # TODO: Check win condition\n",
    "        # TODO: Check lose condition\n",
    "\n",
    "game_loop()\n"
   ]
  },
  {
   "cell_type": "code",
   "execution_count": null,
   "id": "b474a6d2-99ba-4cbc-96ce-07ae1175bd62",
   "metadata": {},
   "outputs": [],
   "source": []
  }
 ],
 "metadata": {
  "kernelspec": {
   "display_name": "Python 3 (ipykernel)",
   "language": "python",
   "name": "python3"
  },
  "language_info": {
   "codemirror_mode": {
    "name": "ipython",
    "version": 3
   },
   "file_extension": ".py",
   "mimetype": "text/x-python",
   "name": "python",
   "nbconvert_exporter": "python",
   "pygments_lexer": "ipython3",
   "version": "3.13.0"
  }
 },
 "nbformat": 4,
 "nbformat_minor": 5
}
