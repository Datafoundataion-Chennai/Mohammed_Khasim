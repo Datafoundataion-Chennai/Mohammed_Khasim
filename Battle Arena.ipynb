{
 "cells": [
  {
   "cell_type": "code",
   "execution_count": null,
   "id": "3b3c8cf4-1cda-40c2-a8dc-cb3d77a8316d",
   "metadata": {},
   "outputs": [],
   "source": [
    "#Base Class\n",
    "class Character:\n",
    "    def __init__(self,name,health,attack_power,defense,speed):\n",
    "        self.name=name\n",
    "        self.health=health\n",
    "        self.attack_power=attack_power\n",
    "        self.defense=defense\n",
    "        self.speed=speed\n",
    "    def attack(self,target):\n",
    "        damage=max(1,self.attack_power-target.defense)\n",
    "        target.take_damage(damage)\n",
    "        print(f\"{self.name} attacks {target.name} for {damage} damage!\")\n",
    "    def take_damage(self,amount):\n",
    "        reduced_damage=max(1,amount_self.defense)\n",
    "        self.health-=reduced_damage\n",
    "        print(f\"{self.name} takes {reduced_damage} damage!\")\n",
    "    def is_alive(self):\n",
    "        return self.health>0\n",
    "\n",
    "#Extending the Base Class\n",
    "class Warrior(Character):\n",
    "    def __init__(self,name,health,attack_power,defense,speed,rage=0):\n",
    "        super().__init__(name,health,attack_power,defense,speed)\n",
    "        self.rage=rage\n",
    "    def attack(self,target):\n",
    "        if self.health<30:\n",
    "            print(f\"{self.name} enters Berserk Mode!\")\n",
    "            self.attack_power*=2\n",
    "        super.attack(target)\n",
    "class Mage(Character):\n",
    "    def __init__(self,name,health,attack_power,defense,speed,mana):\n",
    "        super().__init__(name,health,atack_power,defense,speed)\n",
    "        self.mana=mana\n",
    "        \n",
    "        "
   ]
  }
 ],
 "metadata": {
  "kernelspec": {
   "display_name": "Python 3 (ipykernel)",
   "language": "python",
   "name": "python3"
  },
  "language_info": {
   "codemirror_mode": {
    "name": "ipython",
    "version": 3
   },
   "file_extension": ".py",
   "mimetype": "text/x-python",
   "name": "python",
   "nbconvert_exporter": "python",
   "pygments_lexer": "ipython3",
   "version": "3.13.0"
  }
 },
 "nbformat": 4,
 "nbformat_minor": 5
}
