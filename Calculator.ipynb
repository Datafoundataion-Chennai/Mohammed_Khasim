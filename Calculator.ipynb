{
 "cells": [
  {
   "cell_type": "code",
   "execution_count": 11,
   "id": "0d89ab05-ab20-43d8-8dbe-c739b3f6304e",
   "metadata": {},
   "outputs": [
    {
     "name": "stdout",
     "output_type": "stream",
     "text": [
      "Division by zero\n",
      "could not convert string to float: 'five'\n",
      "Error Invalid Input Type\n"
     ]
    }
   ],
   "source": [
    "def Robust_calculator(a,b,operator):\n",
    "    try:\n",
    "        if operator not in [\"+\",\"-\",\"*\",\"/\",\"%\",\"**\"]:\n",
    "            raise TypeError(\"Invalid Input Type\")\n",
    "        a=float(a)\n",
    "        b=float(b)\n",
    "        if operator==\"+\":\n",
    "            return a+b\n",
    "        elif operator==\"-\":\n",
    "            return a-b\n",
    "        elif operator==\"*\":\n",
    "            return a*b\n",
    "        elif operator==\"/\":\n",
    "            if b==0:\n",
    "                raise ZeroDivisionError(\"Division by zero\")\n",
    "            return a/b\n",
    "        elif operator==\"%\":\n",
    "            if b==0:\n",
    "                raise ZeroDivisionError(\"Modulo by zero\")\n",
    "            return a%b\n",
    "        elif operator==\"**\":\n",
    "            return a**b\n",
    "        else:\n",
    "            raise ValueError(\"Unsupported Operation\")\n",
    "    except ZeroDivisionError as e:\n",
    "        return e\n",
    "    except ValueError as e:\n",
    "        return e\n",
    "    except TypeError as e:\n",
    "        return \"Error Invalid Input Type\"\n",
    "    except Exception as e:\n",
    "        return e\n",
    "\n",
    "print(Robust_calculator(10,0,\"/\"))\n",
    "print(Robust_calculator(10,\"five\",\"+\"))\n",
    "print(Robust_calculator(10,5,\"$\"))"
   ]
  },
  {
   "cell_type": "code",
   "execution_count": null,
   "id": "3e99885a-20b9-4316-befd-3694520f8212",
   "metadata": {},
   "outputs": [],
   "source": []
  }
 ],
 "metadata": {
  "kernelspec": {
   "display_name": "Python 3 (ipykernel)",
   "language": "python",
   "name": "python3"
  },
  "language_info": {
   "codemirror_mode": {
    "name": "ipython",
    "version": 3
   },
   "file_extension": ".py",
   "mimetype": "text/x-python",
   "name": "python",
   "nbconvert_exporter": "python",
   "pygments_lexer": "ipython3",
   "version": "3.13.0"
  }
 },
 "nbformat": 4,
 "nbformat_minor": 5
}
